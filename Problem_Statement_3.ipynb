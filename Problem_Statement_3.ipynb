{
  "nbformat": 4,
  "nbformat_minor": 0,
  "metadata": {
    "colab": {
      "provenance": [],
      "authorship_tag": "ABX9TyM7jLfsjo+mlWY9OQw/8eJf",
      "include_colab_link": true
    },
    "kernelspec": {
      "name": "python3",
      "display_name": "Python 3"
    },
    "language_info": {
      "name": "python"
    }
  },
  "cells": [
    {
      "cell_type": "markdown",
      "metadata": {
        "id": "view-in-github",
        "colab_type": "text"
      },
      "source": [
        "<a href=\"https://colab.research.google.com/github/khushboosharma94/khushboo/blob/main/Problem_Statement_3.ipynb\" target=\"_parent\"><img src=\"https://colab.research.google.com/assets/colab-badge.svg\" alt=\"Open In Colab\"/></a>"
      ]
    },
    {
      "cell_type": "markdown",
      "source": [
        "3 Write a Python function to sum all the numbers in a list.\n",
        "Sample List : [8, 2, 3, 0, 7]\n",
        "\n",
        "Expected Output : 20\n",
        "\n",
        "Explanation:\n",
        "\n",
        "Summation should like 8+2+3+0+7 = 20"
      ],
      "metadata": {
        "id": "YYIoZOHIhHZk"
      }
    },
    {
      "cell_type": "code",
      "execution_count": 1,
      "metadata": {
        "colab": {
          "base_uri": "https://localhost:8080/"
        },
        "id": "5BKitr3lhGgl",
        "outputId": "1267bf92-07b5-42b4-fa4f-94ad7583c3b1"
      },
      "outputs": [
        {
          "output_type": "stream",
          "name": "stdout",
          "text": [
            "Sum of numbers in the list: 20\n"
          ]
        }
      ],
      "source": [
        "numbers = [8, 2, 3, 0, 7]\n",
        "\n",
        "\n",
        "total = sum(numbers)\n",
        "\n",
        "\n",
        "print(\"Sum of numbers in the list:\", total)"
      ]
    }
  ]
}