{
  "nbformat": 4,
  "nbformat_minor": 0,
  "metadata": {
    "colab": {
      "provenance": [],
      "authorship_tag": "ABX9TyM585VTT6wJInqEvllSXH75",
      "include_colab_link": true
    },
    "kernelspec": {
      "name": "python3",
      "display_name": "Python 3"
    },
    "language_info": {
      "name": "python"
    }
  },
  "cells": [
    {
      "cell_type": "markdown",
      "metadata": {
        "id": "view-in-github",
        "colab_type": "text"
      },
      "source": [
        "<a href=\"https://colab.research.google.com/github/khushboosharma94/khushboo/blob/main/Problem_statement_6.ipynb\" target=\"_parent\"><img src=\"https://colab.research.google.com/assets/colab-badge.svg\" alt=\"Open In Colab\"/></a>"
      ]
    },
    {
      "cell_type": "markdown",
      "source": [
        "## python 6(OOPS)\n",
        "Challenge 1: Square Numbers and Return Their Sum"
      ],
      "metadata": {
        "id": "aqQ0XIVagJjo"
      }
    },
    {
      "cell_type": "code",
      "execution_count": 1,
      "metadata": {
        "colab": {
          "base_uri": "https://localhost:8080/"
        },
        "id": "O9WrAhlegI-1",
        "outputId": "ee236f25-b1ec-454d-faaa-f60cd11eb7e9"
      },
      "outputs": [
        {
          "output_type": "stream",
          "name": "stdout",
          "text": [
            "110\n"
          ]
        }
      ],
      "source": [
        "class Point:\n",
        "    def __init__(self, x, y, z):\n",
        "        self.x = x\n",
        "        self.y = y\n",
        "        self.z = z\n",
        "\n",
        "    def sqSum(self):\n",
        "        return self.x**2 + self.y**2 + self.z**2\n",
        "\n",
        "point_instance = Point(5,6,7)\n",
        "\n",
        "\n",
        "result = point_instance.sqSum()\n",
        "print(result)"
      ]
    }
  ]
}