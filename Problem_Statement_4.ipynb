{
  "nbformat": 4,
  "nbformat_minor": 0,
  "metadata": {
    "colab": {
      "provenance": [],
      "authorship_tag": "ABX9TyM8+X08r8cZqzBlKLqA6kFo",
      "include_colab_link": true
    },
    "kernelspec": {
      "name": "python3",
      "display_name": "Python 3"
    },
    "language_info": {
      "name": "python"
    }
  },
  "cells": [
    {
      "cell_type": "markdown",
      "metadata": {
        "id": "view-in-github",
        "colab_type": "text"
      },
      "source": [
        "<a href=\"https://colab.research.google.com/github/khushboosharma94/khushboo/blob/main/Problem_Statement_4.ipynb\" target=\"_parent\"><img src=\"https://colab.research.google.com/assets/colab-badge.svg\" alt=\"Open In Colab\"/></a>"
      ]
    },
    {
      "cell_type": "markdown",
      "source": [
        "# 4 Write a Python program to reverse a string.\n",
        "﻿Sample String : \"1234abcd\"\n",
        "\n",
        "Expected Output : \"dcba4321\""
      ],
      "metadata": {
        "id": "q5If5YrUiNR_"
      }
    },
    {
      "cell_type": "code",
      "execution_count": 3,
      "metadata": {
        "colab": {
          "base_uri": "https://localhost:8080/"
        },
        "id": "BcJ75NfwiJKV",
        "outputId": "b526398a-af7f-4d3a-da6b-33ea9a5352c7"
      },
      "outputs": [
        {
          "output_type": "stream",
          "name": "stdout",
          "text": [
            "dcba4321\n"
          ]
        }
      ],
      "source": [
        "def string_reverse(str1):\n",
        "\n",
        "    rstr1 = ''\n",
        "    index = len(str1)\n",
        "    while index > 0:\n",
        "        rstr1 += str1[ index - 1 ]\n",
        "        index = index - 1\n",
        "    return rstr1\n",
        "print(string_reverse('1234abcd'))"
      ]
    }
  ]
}