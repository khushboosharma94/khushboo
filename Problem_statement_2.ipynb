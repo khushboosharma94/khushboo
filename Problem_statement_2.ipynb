{
  "nbformat": 4,
  "nbformat_minor": 0,
  "metadata": {
    "colab": {
      "provenance": [],
      "authorship_tag": "ABX9TyP1+ihhmSdNP4c1A/9vALze",
      "include_colab_link": true
    },
    "kernelspec": {
      "name": "python3",
      "display_name": "Python 3"
    },
    "language_info": {
      "name": "python"
    }
  },
  "cells": [
    {
      "cell_type": "markdown",
      "metadata": {
        "id": "view-in-github",
        "colab_type": "text"
      },
      "source": [
        "<a href=\"https://colab.research.google.com/github/khushboosharma94/khushboo/blob/main/Problem_statement_2.ipynb\" target=\"_parent\"><img src=\"https://colab.research.google.com/assets/colab-badge.svg\" alt=\"Open In Colab\"/></a>"
      ]
    },
    {
      "cell_type": "markdown",
      "source": [
        "# python 2\n",
        "\n",
        "Write a program that prompts the user to input number of calls and calculate the monthly telephone bills as per the following rule:\n",
        "\n",
        "\n",
        "\n",
        "● Minimum Rs. 200 for up to 100 calls.\n",
        "\n",
        "● Plus Rs. 0.60 per call for next 50 calls.\n",
        "\n",
        "● Plus Rs. 0.50 per call for next 50 calls.\n",
        "\n",
        "● Plus Rs. 0.40 per call for any call beyond 200 calls."
      ],
      "metadata": {
        "id": "VjUGeW36Q7nY"
      }
    },
    {
      "cell_type": "code",
      "execution_count": 1,
      "metadata": {
        "colab": {
          "base_uri": "https://localhost:8080/"
        },
        "id": "4zBfgNyZQ6Pp",
        "outputId": "50cfb7eb-5054-475a-efdd-0d10f954efaa"
      },
      "outputs": [
        {
          "output_type": "stream",
          "name": "stdout",
          "text": [
            "Enter number of calls: 300\n",
            "320.0\n"
          ]
        }
      ],
      "source": [
        "n=int(input('Enter number of calls: '))\n",
        "\n",
        "min_amount=200\n",
        "\n",
        "if n<=100:\n",
        "\n",
        "    amount=200\n",
        "\n",
        "elif n>100 and n<=150:\n",
        "\n",
        "    amount=min_amount+(0.60*n)\n",
        "\n",
        "elif n>150 and n<=200:\n",
        "\n",
        "    amount=min_amount+(0.50*n)\n",
        "\n",
        "else:\n",
        "\n",
        "    amount=min_amount+(0.40*n)\n",
        "\n",
        "print(amount)"
      ]
    }
  ]
}