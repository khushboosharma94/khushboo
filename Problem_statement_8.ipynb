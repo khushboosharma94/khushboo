{
  "nbformat": 4,
  "nbformat_minor": 0,
  "metadata": {
    "colab": {
      "provenance": [],
      "authorship_tag": "ABX9TyNS98elnAd6ljssq3+td9Pm",
      "include_colab_link": true
    },
    "kernelspec": {
      "name": "python3",
      "display_name": "Python 3"
    },
    "language_info": {
      "name": "python"
    }
  },
  "cells": [
    {
      "cell_type": "markdown",
      "metadata": {
        "id": "view-in-github",
        "colab_type": "text"
      },
      "source": [
        "<a href=\"https://colab.research.google.com/github/khushboosharma94/khushboo/blob/main/Problem_statement_8.ipynb\" target=\"_parent\"><img src=\"https://colab.research.google.com/assets/colab-badge.svg\" alt=\"Open In Colab\"/></a>"
      ]
    },
    {
      "cell_type": "markdown",
      "source": [
        "# python 8\n",
        "\n",
        "Challenge 2: Implement a Calculator Class"
      ],
      "metadata": {
        "id": "7-ni3xVQ0kEA"
      }
    },
    {
      "cell_type": "code",
      "execution_count": 1,
      "metadata": {
        "colab": {
          "base_uri": "https://localhost:8080/"
        },
        "id": "wq2S6Upwz-Lh",
        "outputId": "58656931-3d4c-40b3-d290-54f4e3bb6955"
      },
      "outputs": [
        {
          "output_type": "stream",
          "name": "stdout",
          "text": [
            "kk\n",
            "khushboo\n",
            "101\n",
            "14\n"
          ]
        }
      ],
      "source": [
        "class student:\n",
        "\n",
        "  def __init__(self, name, rollnumber):\n",
        "    self.name = name\n",
        "    self.rollnumber = rollnumber\n",
        "\n",
        "  def set_name(self, name):\n",
        "    self.name = name\n",
        "\n",
        "  def get_name(self):\n",
        "    return self.name\n",
        "\n",
        "  def set_rollnumber(self, rollnumber):\n",
        "    self.rollnumber = rollnumber\n",
        "\n",
        "  def get_rollnumber(self):\n",
        "    return self.rollnumber\n",
        "\n",
        "\n",
        "school1=student('khush',101)\n",
        "school1.set_name ('kk')\n",
        "school2=student('khushboo',110)\n",
        "school2.set_rollnumber(14)\n",
        "print(school1.get_name())\n",
        "print(school2.get_name())\n",
        "print(school1.get_rollnumber())\n",
        "print(school2.get_rollnumber())"
      ]
    }
  ]
}