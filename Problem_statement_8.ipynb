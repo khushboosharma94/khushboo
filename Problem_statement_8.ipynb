{
  "nbformat": 4,
  "nbformat_minor": 0,
  "metadata": {
    "colab": {
      "provenance": [],
      "authorship_tag": "ABX9TyMDTrPpUge9zoNgH5bra1f2",
      "include_colab_link": true
    },
    "kernelspec": {
      "name": "python3",
      "display_name": "Python 3"
    },
    "language_info": {
      "name": "python"
    }
  },
  "cells": [
    {
      "cell_type": "markdown",
      "metadata": {
        "id": "view-in-github",
        "colab_type": "text"
      },
      "source": [
        "<a href=\"https://colab.research.google.com/github/khushboosharma94/khushboo/blob/main/Problem_statement_8.ipynb\" target=\"_parent\"><img src=\"https://colab.research.google.com/assets/colab-badge.svg\" alt=\"Open In Colab\"/></a>"
      ]
    },
    {
      "cell_type": "markdown",
      "source": [
        "# python 8\n",
        "\n",
        "Implement the Complete Student Class"
      ],
      "metadata": {
        "id": "7-ni3xVQ0kEA"
      }
    },
    {
      "cell_type": "code",
      "execution_count": null,
      "metadata": {
        "colab": {
          "base_uri": "https://localhost:8080/"
        },
        "id": "wq2S6Upwz-Lh",
        "outputId": "58656931-3d4c-40b3-d290-54f4e3bb6955"
      },
      "outputs": [
        {
          "output_type": "stream",
          "name": "stdout",
          "text": [
            "kk\n",
            "khushboo\n",
            "101\n",
            "14\n"
          ]
        }
      ],
      "source": [
        "class student:\n",
        "\n",
        "  def __init__(self, name, rollnumber):\n",
        "    self.name = name\n",
        "    self.rollnumber = rollnumber\n",
        "\n",
        "  def set_name(self, name):\n",
        "    self.name = name\n",
        "\n",
        "  def get_name(self):\n",
        "    return self.name\n",
        "\n",
        "  def set_rollnumber(self, rollnumber):\n",
        "    self.rollnumber = rollnumber\n",
        "\n",
        "  def get_rollnumber(self):\n",
        "    return self.rollnumber\n",
        "\n",
        "\n",
        "school1=student('khush',101)\n",
        "school1.set_name ('kk')\n",
        "school2=student('khushboo',110)\n",
        "school2.set_rollnumber(14)\n",
        "print(school1.get_name())\n",
        "print(school2.get_name())\n",
        "print(school1.get_rollnumber())\n",
        "print(school2.get_rollnumber())"
      ]
    },
    {
      "cell_type": "code",
      "source": [
        "class Student:\n",
        "    def __init__(self):\n",
        "        self.__name = \"\"\n",
        "        self.__rollNumber = \"\"\n",
        "\n",
        "    def getName(self):\n",
        "        return self.__name\n",
        "\n",
        "    def setName(self, name):\n",
        "        self.__name = name\n",
        "\n",
        "    def getRollNumber(self):\n",
        "        return self.__rollNumber\n",
        "\n",
        "    def setRollNumber(self, rollNumber):\n",
        "        self.__rollNumber = rollNumber\n",
        "\n",
        "# Example usage\n",
        "student = Student()\n",
        "student.setName(\"Khushboo\")\n",
        "student.setRollNumber(\"kk5022\")\n",
        "print(student.getName())\n",
        "print(student.getRollNumber())"
      ],
      "metadata": {
        "id": "rglSymA75phL",
        "outputId": "13a0f5b0-a13e-44e2-d2f7-c5237c83af79",
        "colab": {
          "base_uri": "https://localhost:8080/"
        }
      },
      "execution_count": 2,
      "outputs": [
        {
          "output_type": "stream",
          "name": "stdout",
          "text": [
            "Khushboo\n",
            "kk5022\n"
          ]
        }
      ]
    }
  ]
}