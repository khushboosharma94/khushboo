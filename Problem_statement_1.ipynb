{
  "nbformat": 4,
  "nbformat_minor": 0,
  "metadata": {
    "colab": {
      "provenance": [],
      "authorship_tag": "ABX9TyPUWgelCr3sROSbJ38WsvdU",
      "include_colab_link": true
    },
    "kernelspec": {
      "name": "python3",
      "display_name": "Python 3"
    },
    "language_info": {
      "name": "python"
    }
  },
  "cells": [
    {
      "cell_type": "markdown",
      "metadata": {
        "id": "view-in-github",
        "colab_type": "text"
      },
      "source": [
        "<a href=\"https://colab.research.google.com/github/khushboosharma94/khushboo/blob/main/Problem_statement_1.ipynb\" target=\"_parent\"><img src=\"https://colab.research.google.com/assets/colab-badge.svg\" alt=\"Open In Colab\"/></a>"
      ]
    },
    {
      "cell_type": "markdown",
      "source": [
        " # Python 1\n",
        "Write a program that computes the net amount of a bank account based on a transaction log from console input. The transaction log / sample input is in the format as shown below:\n",
        "\n",
        "Input\n",
        "\n",
        "log_message = D:100 W:10\n",
        "\n",
        "Output\n",
        "\n",
        "90\n",
        "\n",
        "Input\n",
        "\n",
        "Log_message = D:100 W:200 D:400\n",
        "\n",
        "Output\n",
        "\n",
        "300 (100 - 200 + 400 = 300)"
      ],
      "metadata": {
        "id": "X-T4A_DJPk8K"
      }
    },
    {
      "cell_type": "code",
      "execution_count": 1,
      "metadata": {
        "colab": {
          "base_uri": "https://localhost:8080/"
        },
        "id": "h8_1mOFGPapl",
        "outputId": "bef82328-f45c-4069-f835-b4a89ad824a9"
      },
      "outputs": [
        {
          "output_type": "stream",
          "name": "stdout",
          "text": [
            "Enter the log_msg: D:100 W:200 D:400\n",
            "300\n"
          ]
        }
      ],
      "source": [
        "log_msg = input(\"Enter the log_msg: \")\n",
        "\n",
        "log_items = log_msg.split()\n",
        "\n",
        "total_amount = 0\n",
        "\n",
        "for item in log_items:\n",
        "    key, value = item.split (\":\")\n",
        "    if key == 'D':\n",
        "        total_amount += int(value)\n",
        "    elif key == 'W':\n",
        "        total_amount -= int(value)\n",
        "\n",
        "print(total_amount)"
      ]
    }
  ]
}