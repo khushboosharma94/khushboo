{
  "nbformat": 4,
  "nbformat_minor": 0,
  "metadata": {
    "colab": {
      "provenance": [],
      "authorship_tag": "ABX9TyOP9FdX4PsBhp3Ts+G9XVqg",
      "include_colab_link": true
    },
    "kernelspec": {
      "name": "python3",
      "display_name": "Python 3"
    },
    "language_info": {
      "name": "python"
    }
  },
  "cells": [
    {
      "cell_type": "markdown",
      "metadata": {
        "id": "view-in-github",
        "colab_type": "text"
      },
      "source": [
        "<a href=\"https://colab.research.google.com/github/khushboosharma94/khushboo/blob/main/Problem_assigment_9.ipynb\" target=\"_parent\"><img src=\"https://colab.research.google.com/assets/colab-badge.svg\" alt=\"Open In Colab\"/></a>"
      ]
    },
    {
      "cell_type": "markdown",
      "source": [
        "# pyhton9\n",
        "Implement a Banking Account"
      ],
      "metadata": {
        "id": "mE1TXuoy6_ex"
      }
    },
    {
      "cell_type": "code",
      "execution_count": 1,
      "metadata": {
        "colab": {
          "base_uri": "https://localhost:8080/"
        },
        "id": "PoOwcE1V67gI",
        "outputId": "67360915-cbd0-4371-aabd-3a602eb5ba10"
      },
      "outputs": [
        {
          "output_type": "stream",
          "name": "stdout",
          "text": [
            "Ashish\n",
            "500\n",
            "5\n"
          ]
        }
      ],
      "source": [
        "class Account:\n",
        "    def __init__(self, title, balance):\n",
        "        self.title = title\n",
        "        self.balance = balance\n",
        "\n",
        "class SavingsAccount(Account):\n",
        "    def __init__(self, title, balance, interestRate):\n",
        "        self.interestRate = interestRate\n",
        "\n",
        "account = Account(\"Ashish\", 500)\n",
        "savingsAccount = SavingsAccount(\"Ashish\", 5000, 5)\n",
        "print(account.title)\n",
        "print(account.balance)\n",
        "print(savingsAccount.interestRate)"
      ]
    }
  ]
}